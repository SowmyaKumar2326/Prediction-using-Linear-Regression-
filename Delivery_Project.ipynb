{
 "cells": [
  {
   "cell_type": "code",
   "execution_count": 4,
   "id": "2cff0bca",
   "metadata": {},
   "outputs": [],
   "source": [
    "import pandas as pd\n",
    "import numpy as np\n",
    "import seaborn as sns\n",
    "import matplotlib.pyplot as plt\n",
    "%matplotlib inline"
   ]
  },
  {
   "cell_type": "code",
   "execution_count": 5,
   "id": "15c9c7c5",
   "metadata": {},
   "outputs": [
    {
     "data": {
      "text/html": [
       "<div>\n",
       "<style scoped>\n",
       "    .dataframe tbody tr th:only-of-type {\n",
       "        vertical-align: middle;\n",
       "    }\n",
       "\n",
       "    .dataframe tbody tr th {\n",
       "        vertical-align: top;\n",
       "    }\n",
       "\n",
       "    .dataframe thead th {\n",
       "        text-align: right;\n",
       "    }\n",
       "</style>\n",
       "<table border=\"1\" class=\"dataframe\">\n",
       "  <thead>\n",
       "    <tr style=\"text-align: right;\">\n",
       "      <th></th>\n",
       "      <th>Delivery Time</th>\n",
       "      <th>Sorting Time</th>\n",
       "    </tr>\n",
       "  </thead>\n",
       "  <tbody>\n",
       "    <tr>\n",
       "      <th>0</th>\n",
       "      <td>21.00</td>\n",
       "      <td>10</td>\n",
       "    </tr>\n",
       "    <tr>\n",
       "      <th>1</th>\n",
       "      <td>13.50</td>\n",
       "      <td>4</td>\n",
       "    </tr>\n",
       "    <tr>\n",
       "      <th>2</th>\n",
       "      <td>19.75</td>\n",
       "      <td>6</td>\n",
       "    </tr>\n",
       "    <tr>\n",
       "      <th>3</th>\n",
       "      <td>24.00</td>\n",
       "      <td>9</td>\n",
       "    </tr>\n",
       "    <tr>\n",
       "      <th>4</th>\n",
       "      <td>29.00</td>\n",
       "      <td>10</td>\n",
       "    </tr>\n",
       "  </tbody>\n",
       "</table>\n",
       "</div>"
      ],
      "text/plain": [
       "   Delivery Time  Sorting Time\n",
       "0          21.00            10\n",
       "1          13.50             4\n",
       "2          19.75             6\n",
       "3          24.00             9\n",
       "4          29.00            10"
      ]
     },
     "execution_count": 5,
     "metadata": {},
     "output_type": "execute_result"
    }
   ],
   "source": [
    "dt=pd.read_csv(\"C:/Users/Sowmya Ganesh/Documents/delivery_time.csv\")\n",
    "dt.head(5)"
   ]
  },
  {
   "cell_type": "code",
   "execution_count": 6,
   "id": "513143c6",
   "metadata": {},
   "outputs": [
    {
     "name": "stdout",
     "output_type": "stream",
     "text": [
      "    Delivery Time  Sorting Time\n",
      "0           21.00            10\n",
      "1           13.50             4\n",
      "2           19.75             6\n",
      "3           24.00             9\n",
      "4           29.00            10\n",
      "5           15.35             6\n",
      "6           19.00             7\n",
      "7            9.50             3\n",
      "8           17.90            10\n",
      "9           18.75             9\n",
      "10          19.83             8\n",
      "11          10.75             4\n",
      "12          16.68             7\n",
      "13          11.50             3\n",
      "14          12.03             3\n",
      "15          14.88             4\n",
      "16          13.75             6\n",
      "17          18.11             7\n",
      "18           8.00             2\n",
      "19          17.83             7\n",
      "20          21.50             5\n"
     ]
    }
   ],
   "source": [
    "#Creating copoy of actual data\n",
    "delivery_data=dt.copy()\n",
    "print(delivery_data)"
   ]
  },
  {
   "cell_type": "markdown",
   "id": "5ba6a5ea",
   "metadata": {},
   "source": [
    "#### Basic Information Check"
   ]
  },
  {
   "cell_type": "code",
   "execution_count": 7,
   "id": "5ad54b22",
   "metadata": {},
   "outputs": [
    {
     "name": "stdout",
     "output_type": "stream",
     "text": [
      "(21, 2)\n"
     ]
    }
   ],
   "source": [
    "print(delivery_data.shape)"
   ]
  },
  {
   "cell_type": "code",
   "execution_count": 8,
   "id": "d821d261",
   "metadata": {},
   "outputs": [
    {
     "name": "stdout",
     "output_type": "stream",
     "text": [
      "Delivery Time    float64\n",
      "Sorting Time       int64\n",
      "dtype: object\n"
     ]
    }
   ],
   "source": [
    "print(delivery_data.dtypes)"
   ]
  },
  {
   "cell_type": "code",
   "execution_count": 9,
   "id": "d7bf4649",
   "metadata": {},
   "outputs": [
    {
     "name": "stdout",
     "output_type": "stream",
     "text": [
      "<class 'pandas.core.frame.DataFrame'>\n",
      "RangeIndex: 21 entries, 0 to 20\n",
      "Data columns (total 2 columns):\n",
      " #   Column         Non-Null Count  Dtype  \n",
      "---  ------         --------------  -----  \n",
      " 0   Delivery Time  21 non-null     float64\n",
      " 1   Sorting Time   21 non-null     int64  \n",
      "dtypes: float64(1), int64(1)\n",
      "memory usage: 468.0 bytes\n",
      "None\n"
     ]
    }
   ],
   "source": [
    "print(delivery_data.info())"
   ]
  },
  {
   "cell_type": "code",
   "execution_count": 10,
   "id": "5f9d65fd",
   "metadata": {},
   "outputs": [
    {
     "data": {
      "text/html": [
       "<div>\n",
       "<style scoped>\n",
       "    .dataframe tbody tr th:only-of-type {\n",
       "        vertical-align: middle;\n",
       "    }\n",
       "\n",
       "    .dataframe tbody tr th {\n",
       "        vertical-align: top;\n",
       "    }\n",
       "\n",
       "    .dataframe thead th {\n",
       "        text-align: right;\n",
       "    }\n",
       "</style>\n",
       "<table border=\"1\" class=\"dataframe\">\n",
       "  <thead>\n",
       "    <tr style=\"text-align: right;\">\n",
       "      <th></th>\n",
       "      <th>Delivery Time</th>\n",
       "      <th>Sorting Time</th>\n",
       "    </tr>\n",
       "  </thead>\n",
       "  <tbody>\n",
       "    <tr>\n",
       "      <th>count</th>\n",
       "      <td>21.000000</td>\n",
       "      <td>21.000000</td>\n",
       "    </tr>\n",
       "    <tr>\n",
       "      <th>mean</th>\n",
       "      <td>16.790952</td>\n",
       "      <td>6.190476</td>\n",
       "    </tr>\n",
       "    <tr>\n",
       "      <th>std</th>\n",
       "      <td>5.074901</td>\n",
       "      <td>2.542028</td>\n",
       "    </tr>\n",
       "    <tr>\n",
       "      <th>min</th>\n",
       "      <td>8.000000</td>\n",
       "      <td>2.000000</td>\n",
       "    </tr>\n",
       "    <tr>\n",
       "      <th>25%</th>\n",
       "      <td>13.500000</td>\n",
       "      <td>4.000000</td>\n",
       "    </tr>\n",
       "    <tr>\n",
       "      <th>50%</th>\n",
       "      <td>17.830000</td>\n",
       "      <td>6.000000</td>\n",
       "    </tr>\n",
       "    <tr>\n",
       "      <th>75%</th>\n",
       "      <td>19.750000</td>\n",
       "      <td>8.000000</td>\n",
       "    </tr>\n",
       "    <tr>\n",
       "      <th>max</th>\n",
       "      <td>29.000000</td>\n",
       "      <td>10.000000</td>\n",
       "    </tr>\n",
       "  </tbody>\n",
       "</table>\n",
       "</div>"
      ],
      "text/plain": [
       "       Delivery Time  Sorting Time\n",
       "count      21.000000     21.000000\n",
       "mean       16.790952      6.190476\n",
       "std         5.074901      2.542028\n",
       "min         8.000000      2.000000\n",
       "25%        13.500000      4.000000\n",
       "50%        17.830000      6.000000\n",
       "75%        19.750000      8.000000\n",
       "max        29.000000     10.000000"
      ]
     },
     "execution_count": 10,
     "metadata": {},
     "output_type": "execute_result"
    }
   ],
   "source": [
    "delivery_data.describe()"
   ]
  },
  {
   "cell_type": "markdown",
   "id": "68de0d62",
   "metadata": {},
   "source": [
    "### Exploratory Data Analysis(EDA)"
   ]
  },
  {
   "cell_type": "markdown",
   "id": "fef301d0",
   "metadata": {},
   "source": [
    "#### To find the correlation between Delivery and Sorting Time"
   ]
  },
  {
   "cell_type": "code",
   "execution_count": 11,
   "id": "409ec7cd",
   "metadata": {},
   "outputs": [
    {
     "data": {
      "text/html": [
       "<div>\n",
       "<style scoped>\n",
       "    .dataframe tbody tr th:only-of-type {\n",
       "        vertical-align: middle;\n",
       "    }\n",
       "\n",
       "    .dataframe tbody tr th {\n",
       "        vertical-align: top;\n",
       "    }\n",
       "\n",
       "    .dataframe thead th {\n",
       "        text-align: right;\n",
       "    }\n",
       "</style>\n",
       "<table border=\"1\" class=\"dataframe\">\n",
       "  <thead>\n",
       "    <tr style=\"text-align: right;\">\n",
       "      <th></th>\n",
       "      <th>Delivery Time</th>\n",
       "      <th>Sorting Time</th>\n",
       "    </tr>\n",
       "  </thead>\n",
       "  <tbody>\n",
       "    <tr>\n",
       "      <th>Delivery Time</th>\n",
       "      <td>1.000000</td>\n",
       "      <td>0.825997</td>\n",
       "    </tr>\n",
       "    <tr>\n",
       "      <th>Sorting Time</th>\n",
       "      <td>0.825997</td>\n",
       "      <td>1.000000</td>\n",
       "    </tr>\n",
       "  </tbody>\n",
       "</table>\n",
       "</div>"
      ],
      "text/plain": [
       "               Delivery Time  Sorting Time\n",
       "Delivery Time       1.000000      0.825997\n",
       "Sorting Time        0.825997      1.000000"
      ]
     },
     "execution_count": 11,
     "metadata": {},
     "output_type": "execute_result"
    }
   ],
   "source": [
    "delivery_data[['Delivery Time','Sorting Time']].corr()"
   ]
  },
  {
   "cell_type": "code",
   "execution_count": 15,
   "id": "aca0ed48",
   "metadata": {},
   "outputs": [
    {
     "data": {
      "image/png": "[encoded data removed]",
      "text/plain": [
       "<Figure size 640x480 with 2 Axes>"
      ]
     },
     "metadata": {},
     "output_type": "display_data"
    }
   ],
   "source": [
    "sns.heatmap(delivery_data[['Delivery Time','Sorting Time']].corr(),annot=True,cmap=\"RdBu\",cbar=True)\n",
    "plt.savefig(\"Delivery_corr.png\",dpi=100)"
   ]
  },
  {
   "cell_type": "code",
   "execution_count": 13,
   "id": "5c33a68f",
   "metadata": {},
   "outputs": [],
   "source": [
    "#From the heat map we can infer there is \n",
    "# a strong relation between the columns delivery and sorting."
   ]
  },
  {
   "cell_type": "code",
   "execution_count": 18,
   "id": "43371263",
   "metadata": {},
   "outputs": [
    {
     "data": {
      "image/png": "[encoded data removed]",
      "text/plain": [
       "<Figure size 640x480 with 1 Axes>"
      ]
     },
     "metadata": {},
     "output_type": "display_data"
    }
   ],
   "source": [
    "sns.regplot(x='Sorting Time',y='Delivery Time',data=delivery_data)\n",
    "plt.title('Regression plot of Sorting time vs Delivery time')\n",
    "plt.savefig(\"Delivery_Regression.png\")"
   ]
  },
  {
   "cell_type": "code",
   "execution_count": null,
   "id": "ca3f4e3e",
   "metadata": {},
   "outputs": [],
   "source": [
    "sns.histplot(x = 'Delivery Time', data = delivery_data, kde=True)"
   ]
  },
  {
   "cell_type": "code",
   "execution_count": null,
   "id": "1f7f93d1",
   "metadata": {},
   "outputs": [],
   "source": [
    "import scipy.stats as stats\n",
    "skewness = stats.skew(delivery_data['Delivery Time'])\n",
    "print(f'Skewness of Delivery Time data is {round(skewness,2)}')"
   ]
  },
  {
   "cell_type": "code",
   "execution_count": null,
   "id": "6942b080",
   "metadata": {},
   "outputs": [],
   "source": [
    "#The graph shows it is right skewed"
   ]
  },
  {
   "cell_type": "code",
   "execution_count": null,
   "id": "21fa3b50",
   "metadata": {},
   "outputs": [],
   "source": [
    "delivery_data.plot(x=\"Sorting Time\",y=\"Delivery Time\",kind=\"scatter\",s=100,grid=True)\n",
    "plt.savefig(\"Delivery_scatter.png\",dpi=100)"
   ]
  },
  {
   "cell_type": "code",
   "execution_count": null,
   "id": "07f0e056",
   "metadata": {},
   "outputs": [],
   "source": [
    "delivery_data[[\"Delivery Time\",\"Sorting Time\"]].plot(kind='area',legend=True)\n",
    "plt.savefig(\"Delivery_area.png\",dpi=100)"
   ]
  },
  {
   "cell_type": "code",
   "execution_count": null,
   "id": "b0d02040",
   "metadata": {},
   "outputs": [],
   "source": [
    "# This area graph shows that Sorting time is greater than Delivery time.\n",
    "# The Delivery time pattern and the Sorting time pattern are almost the same."
   ]
  },
  {
   "cell_type": "code",
   "execution_count": null,
   "id": "dd166da0",
   "metadata": {},
   "outputs": [],
   "source": [
    "sns.boxplot(x = 'Delivery Time', data= delivery_data)"
   ]
  },
  {
   "cell_type": "code",
   "execution_count": null,
   "id": "56d950ab",
   "metadata": {},
   "outputs": [],
   "source": [
    "#There are no outliners in the data"
   ]
  },
  {
   "cell_type": "markdown",
   "id": "69d93abe",
   "metadata": {},
   "source": [
    "# Simple Linear Regrression"
   ]
  },
  {
   "cell_type": "markdown",
   "id": "09d6060c",
   "metadata": {},
   "source": [
    "### Objective - To predict Delivery Time using Sorting Time"
   ]
  },
  {
   "cell_type": "code",
   "execution_count": null,
   "id": "bfe52f08",
   "metadata": {},
   "outputs": [],
   "source": [
    "# Here we have X=Sorting Time or Independent Variable\n",
    "# and y as Delivery Time or Dependent Variable or Target Variable "
   ]
  },
  {
   "cell_type": "markdown",
   "id": "eb63fdc4",
   "metadata": {},
   "source": [
    "## Splitting the train_test_split as 80:20"
   ]
  },
  {
   "cell_type": "code",
   "execution_count": null,
   "id": "fd9109f3",
   "metadata": {},
   "outputs": [],
   "source": [
    "y=delivery_data[['Delivery Time']]\n",
    "y.head(3)"
   ]
  },
  {
   "cell_type": "code",
   "execution_count": null,
   "id": "1994c3de",
   "metadata": {},
   "outputs": [],
   "source": [
    "X=delivery_data[['Sorting Time']]\n",
    "X.head(3)"
   ]
  },
  {
   "cell_type": "code",
   "execution_count": null,
   "id": "add95aa4",
   "metadata": {},
   "outputs": [],
   "source": [
    "from sklearn.model_selection import train_test_split\n",
    "X_train,X_test,y_train,y_test=train_test_split(X,y,train_size=0.8,test_size=0.2,random_state=2)"
   ]
  },
  {
   "cell_type": "code",
   "execution_count": null,
   "id": "180499dd",
   "metadata": {},
   "outputs": [],
   "source": [
    "X_train.head(3)"
   ]
  },
  {
   "cell_type": "code",
   "execution_count": null,
   "id": "a171263f",
   "metadata": {},
   "outputs": [],
   "source": [
    "y_train.head(3)"
   ]
  },
  {
   "cell_type": "markdown",
   "id": "00b5a53b",
   "metadata": {},
   "source": [
    "### Training the Model"
   ]
  },
  {
   "cell_type": "code",
   "execution_count": null,
   "id": "f000379f",
   "metadata": {},
   "outputs": [],
   "source": [
    "from sklearn.linear_model import LinearRegression\n",
    "model= LinearRegression()\n",
    "print(model)"
   ]
  },
  {
   "cell_type": "code",
   "execution_count": null,
   "id": "8f6ed3e7",
   "metadata": {},
   "outputs": [],
   "source": [
    "train_model=model.fit(X_train,y_train)\n",
    "print(train_model)"
   ]
  },
  {
   "cell_type": "code",
   "execution_count": null,
   "id": "65d16312",
   "metadata": {},
   "outputs": [],
   "source": [
    "pred=train_model.predict(X_test)\n",
    "pred"
   ]
  },
  {
   "cell_type": "code",
   "execution_count": null,
   "id": "d4351aa4",
   "metadata": {},
   "outputs": [],
   "source": [
    "y_test"
   ]
  },
  {
   "cell_type": "code",
   "execution_count": null,
   "id": "30f181f8",
   "metadata": {},
   "outputs": [],
   "source": [
    "from sklearn.metrics import r2_score\n",
    "r2=r2_score(y_test,pred)\n",
    "print(f'The R^2 Score of Actual and Predicted is {round(r2,4)}')"
   ]
  },
  {
   "cell_type": "code",
   "execution_count": null,
   "id": "22d40b65",
   "metadata": {
    "scrolled": true
   },
   "outputs": [],
   "source": [
    "intercept = train_model.intercept_\n",
    "slope = train_model.coef_\n",
    "print('Intercept:',intercept)\n",
    "print(\"Slope:\",slope)"
   ]
  },
  {
   "cell_type": "code",
   "execution_count": null,
   "id": "a050dc93",
   "metadata": {},
   "outputs": [],
   "source": [
    "from sklearn.metrics import mean_squared_error\n",
    "from math import sqrt\n",
    "rmse = sqrt(mean_squared_error(pred,y_test))\n",
    "print(f'The RMSE of this model is {round(rmse,4)}')"
   ]
  },
  {
   "cell_type": "markdown",
   "id": "617ce9ed",
   "metadata": {},
   "source": [
    "# Splitting the train_test_model as 75:25"
   ]
  },
  {
   "cell_type": "code",
   "execution_count": null,
   "id": "9b909da6",
   "metadata": {},
   "outputs": [],
   "source": [
    "from sklearn.model_selection import train_test_split\n",
    "from sklearn.linear_model import LinearRegression\n",
    "from sklearn.metrics import r2_score\n",
    "from math import sqrt"
   ]
  },
  {
   "cell_type": "code",
   "execution_count": null,
   "id": "ebc09be4",
   "metadata": {},
   "outputs": [],
   "source": [
    "y=delivery_data[['Delivery Time']]\n",
    "y.head(3)"
   ]
  },
  {
   "cell_type": "code",
   "execution_count": null,
   "id": "2e1c8799",
   "metadata": {},
   "outputs": [],
   "source": [
    "X=delivery_data[['Sorting Time']]\n",
    "X.head(3)"
   ]
  },
  {
   "cell_type": "code",
   "execution_count": null,
   "id": "1377503d",
   "metadata": {},
   "outputs": [],
   "source": [
    "X_train,X_test,y_train,y_test=train_test_split(X,y,train_size=0.75,test_size=0.25,random_state=9)"
   ]
  },
  {
   "cell_type": "code",
   "execution_count": null,
   "id": "e33fdc20",
   "metadata": {},
   "outputs": [],
   "source": [
    "X_train.head(3),y_train.head(3)"
   ]
  },
  {
   "cell_type": "code",
   "execution_count": null,
   "id": "ffadc56f",
   "metadata": {},
   "outputs": [],
   "source": [
    "model= LinearRegression()\n",
    "print(model)"
   ]
  },
  {
   "cell_type": "code",
   "execution_count": null,
   "id": "7ca67dfa",
   "metadata": {},
   "outputs": [],
   "source": [
    "train_model=model.fit(X_train,y_train)\n",
    "print(train_model)"
   ]
  },
  {
   "cell_type": "code",
   "execution_count": null,
   "id": "5adbba7b",
   "metadata": {},
   "outputs": [],
   "source": [
    "pred=train_model.predict(X_test)\n",
    "pred"
   ]
  },
  {
   "cell_type": "code",
   "execution_count": null,
   "id": "cd705541",
   "metadata": {},
   "outputs": [],
   "source": [
    "y_test"
   ]
  },
  {
   "cell_type": "code",
   "execution_count": null,
   "id": "53d6b42a",
   "metadata": {},
   "outputs": [],
   "source": [
    "r2=r2_score(y_test,pred)\n",
    "print(f'The R^2 Score of Actual and Predicted is {round(r2,4)}')"
   ]
  },
  {
   "cell_type": "code",
   "execution_count": null,
   "id": "bcf7f375",
   "metadata": {},
   "outputs": [],
   "source": [
    "intercept = train_model.intercept_\n",
    "slope = train_model.coef_\n",
    "print('Intercept:',intercept)\n",
    "print(\"Slope:\",slope)"
   ]
  },
  {
   "cell_type": "code",
   "execution_count": null,
   "id": "2dc5727c",
   "metadata": {},
   "outputs": [],
   "source": [
    "rmse = sqrt(mean_squared_error(pred,y_test))\n",
    "print(f'The RMSE of this model is {round(rmse,4)}')"
   ]
  },
  {
   "cell_type": "markdown",
   "id": "ef1341de",
   "metadata": {},
   "source": [
    "# Splitting the train_test_model as 70:30"
   ]
  },
  {
   "cell_type": "code",
   "execution_count": null,
   "id": "8f17082e",
   "metadata": {},
   "outputs": [],
   "source": [
    "from sklearn.model_selection import train_test_split\n",
    "from sklearn.linear_model import LinearRegression\n",
    "from sklearn.metrics import r2_score\n",
    "from math import sqrt"
   ]
  },
  {
   "cell_type": "code",
   "execution_count": null,
   "id": "385b0fa8",
   "metadata": {},
   "outputs": [],
   "source": [
    "y=delivery_data[['Delivery Time']]\n",
    "y.head(3)"
   ]
  },
  {
   "cell_type": "code",
   "execution_count": null,
   "id": "d1dd8304",
   "metadata": {},
   "outputs": [],
   "source": [
    "X=delivery_data[['Sorting Time']]\n",
    "X.head(3)"
   ]
  },
  {
   "cell_type": "code",
   "execution_count": null,
   "id": "cf35b707",
   "metadata": {},
   "outputs": [],
   "source": [
    "X_train,X_test,y_train,y_test=train_test_split(X,y,train_size=0.7,test_size=0.3,random_state=15)"
   ]
  },
  {
   "cell_type": "code",
   "execution_count": null,
   "id": "72c252f8",
   "metadata": {},
   "outputs": [],
   "source": [
    "X_train.head(3),y_train.head(3)"
   ]
  },
  {
   "cell_type": "code",
   "execution_count": null,
   "id": "7aea85c5",
   "metadata": {},
   "outputs": [],
   "source": [
    "model= LinearRegression()\n",
    "print(model)"
   ]
  },
  {
   "cell_type": "code",
   "execution_count": null,
   "id": "d58e8063",
   "metadata": {},
   "outputs": [],
   "source": [
    "train_model=model.fit(X_train,y_train)\n",
    "print(train_model)"
   ]
  },
  {
   "cell_type": "code",
   "execution_count": null,
   "id": "1adc12f5",
   "metadata": {},
   "outputs": [],
   "source": [
    "pred=train_model.predict(X_test)\n",
    "pred"
   ]
  },
  {
   "cell_type": "code",
   "execution_count": null,
   "id": "fe8b4f41",
   "metadata": {},
   "outputs": [],
   "source": [
    "y_test"
   ]
  },
  {
   "cell_type": "code",
   "execution_count": null,
   "id": "e91da90d",
   "metadata": {},
   "outputs": [],
   "source": [
    "r2=r2_score(y_test,pred)\n",
    "print(f'The R^2 Score of Actual and Predicted is {round(r2,4)}')"
   ]
  },
  {
   "cell_type": "code",
   "execution_count": null,
   "id": "6f846788",
   "metadata": {},
   "outputs": [],
   "source": [
    "intercept = train_model.intercept_\n",
    "slope = train_model.coef_\n",
    "print('Intercept:',intercept)\n",
    "print(\"Slope:\",slope)"
   ]
  },
  {
   "cell_type": "code",
   "execution_count": null,
   "id": "09e6b4fb",
   "metadata": {},
   "outputs": [],
   "source": [
    "rmse = sqrt(mean_squared_error(pred,y_test))\n",
    "print(f'The RMSE of this model is {round(rmse,4)}')"
   ]
  },
  {
   "cell_type": "code",
   "execution_count": null,
   "id": "855e7305",
   "metadata": {},
   "outputs": [],
   "source": []
  },
  {
   "cell_type": "code",
   "execution_count": null,
   "id": "4cc48e13",
   "metadata": {},
   "outputs": [],
   "source": []
  }
 ],
 "metadata": {
  "kernelspec": {
   "display_name": "Python 3 (ipykernel)",
   "language": "python",
   "name": "python3"
  },
  "language_info": {
   "codemirror_mode": {
    "name": "ipython",
    "version": 3
   },
   "file_extension": ".py",
   "mimetype": "text/x-python",
   "name": "python",
   "nbconvert_exporter": "python",
   "pygments_lexer": "ipython3",
   "version": "3.11.5"
  }
 },
 "nbformat": 4,
 "nbformat_minor": 5
}
